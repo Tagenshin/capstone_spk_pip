{
 "cells": [
  {
   "cell_type": "markdown",
   "id": "de3e1215",
   "metadata": {},
   "source": [
    "# Import Library"
   ]
  },
  {
   "cell_type": "code",
   "execution_count": 151,
   "id": "ae1df9aa",
   "metadata": {},
   "outputs": [],
   "source": [
    "import pandas as pd\n",
    "import numpy as np\n",
    "import seaborn as sns\n",
    "import matplotlib.pyplot as plt\n",
    "\n",
    "from sklearn.model_selection import train_test_split\n",
    "from sklearn.preprocessing import LabelEncoder\n",
    "from sklearn.metrics import confusion_matrix, classification_report\n",
    "from imblearn.over_sampling import SMOTE\n",
    "\n",
    "import tensorflow as tf\n",
    "from tensorflow.keras.models import Sequential, load_model\n",
    "from tensorflow.keras.layers import Dense, Dropout\n",
    "from tensorflow.keras.callbacks import EarlyStopping\n",
    "from tensorflow.keras.optimizers import Adam\n",
    "\n",
    "\n",
    "import warnings\n",
    "warnings.filterwarnings(\"ignore\")"
   ]
  },
  {
   "cell_type": "markdown",
   "id": "bbc7c4d6",
   "metadata": {},
   "source": [
    "# Load data"
   ]
  },
  {
   "cell_type": "code",
   "execution_count": 152,
   "id": "ac395f25",
   "metadata": {},
   "outputs": [
    {
     "data": {
      "text/html": [
       "<div>\n",
       "<style scoped>\n",
       "    .dataframe tbody tr th:only-of-type {\n",
       "        vertical-align: middle;\n",
       "    }\n",
       "\n",
       "    .dataframe tbody tr th {\n",
       "        vertical-align: top;\n",
       "    }\n",
       "\n",
       "    .dataframe thead th {\n",
       "        text-align: right;\n",
       "    }\n",
       "</style>\n",
       "<table border=\"1\" class=\"dataframe\">\n",
       "  <thead>\n",
       "    <tr style=\"text-align: right;\">\n",
       "      <th></th>\n",
       "      <th>Alat Transportasi</th>\n",
       "      <th>Pekerjaan Orang Tua</th>\n",
       "      <th>Penghasilan Orang Tua</th>\n",
       "      <th>Jumlah Tanggungan</th>\n",
       "      <th>Pemilik KIP</th>\n",
       "      <th>Pemilik KPS</th>\n",
       "      <th>Status</th>\n",
       "    </tr>\n",
       "  </thead>\n",
       "  <tbody>\n",
       "    <tr>\n",
       "      <th>0</th>\n",
       "      <td>Sepeda motor</td>\n",
       "      <td>Wirausaha</td>\n",
       "      <td>4213001</td>\n",
       "      <td>1</td>\n",
       "      <td>Tidak</td>\n",
       "      <td>Tidak</td>\n",
       "      <td>Tidak Layak</td>\n",
       "    </tr>\n",
       "    <tr>\n",
       "      <th>1</th>\n",
       "      <td>Jalan kaki</td>\n",
       "      <td>Lainnya</td>\n",
       "      <td>3249958</td>\n",
       "      <td>Lebih dari 3</td>\n",
       "      <td>Tidak</td>\n",
       "      <td>Tidak</td>\n",
       "      <td>Layak</td>\n",
       "    </tr>\n",
       "    <tr>\n",
       "      <th>2</th>\n",
       "      <td>Lainnya</td>\n",
       "      <td>Peternak</td>\n",
       "      <td>4166323</td>\n",
       "      <td>2</td>\n",
       "      <td>Tidak</td>\n",
       "      <td>Tidak</td>\n",
       "      <td>Tidak Layak</td>\n",
       "    </tr>\n",
       "    <tr>\n",
       "      <th>3</th>\n",
       "      <td>Sepeda motor</td>\n",
       "      <td>Lainnya</td>\n",
       "      <td>3261966</td>\n",
       "      <td>2</td>\n",
       "      <td>Tidak</td>\n",
       "      <td>Tidak</td>\n",
       "      <td>Layak</td>\n",
       "    </tr>\n",
       "    <tr>\n",
       "      <th>4</th>\n",
       "      <td>Sepeda motor</td>\n",
       "      <td>Wirausaha</td>\n",
       "      <td>3254943</td>\n",
       "      <td>Lebih dari 3</td>\n",
       "      <td>Tidak</td>\n",
       "      <td>Tidak</td>\n",
       "      <td>Layak</td>\n",
       "    </tr>\n",
       "  </tbody>\n",
       "</table>\n",
       "</div>"
      ],
      "text/plain": [
       "  Alat Transportasi Pekerjaan Orang Tua  Penghasilan Orang Tua  \\\n",
       "0      Sepeda motor           Wirausaha                4213001   \n",
       "1        Jalan kaki             Lainnya                3249958   \n",
       "2           Lainnya            Peternak                4166323   \n",
       "3      Sepeda motor             Lainnya                3261966   \n",
       "4      Sepeda motor           Wirausaha                3254943   \n",
       "\n",
       "  Jumlah Tanggungan Pemilik KIP Pemilik KPS       Status  \n",
       "0                 1       Tidak       Tidak  Tidak Layak  \n",
       "1      Lebih dari 3       Tidak       Tidak        Layak  \n",
       "2                 2       Tidak       Tidak  Tidak Layak  \n",
       "3                 2       Tidak       Tidak        Layak  \n",
       "4      Lebih dari 3       Tidak       Tidak        Layak  "
      ]
     },
     "execution_count": 152,
     "metadata": {},
     "output_type": "execute_result"
    }
   ],
   "source": [
    "df = pd.read_excel(\"dataset/data_pip_cleaned.xlsx\")\n",
    "df.head()"
   ]
  },
  {
   "cell_type": "code",
   "execution_count": 153,
   "id": "36a3e5ef",
   "metadata": {},
   "outputs": [
    {
     "name": "stdout",
     "output_type": "stream",
     "text": [
      "<class 'pandas.core.frame.DataFrame'>\n",
      "RangeIndex: 1000 entries, 0 to 999\n",
      "Data columns (total 7 columns):\n",
      " #   Column                 Non-Null Count  Dtype \n",
      "---  ------                 --------------  ----- \n",
      " 0   Alat Transportasi      1000 non-null   object\n",
      " 1   Pekerjaan Orang Tua    1000 non-null   object\n",
      " 2   Penghasilan Orang Tua  1000 non-null   int64 \n",
      " 3   Jumlah Tanggungan      1000 non-null   object\n",
      " 4   Pemilik KIP            1000 non-null   object\n",
      " 5   Pemilik KPS            1000 non-null   object\n",
      " 6   Status                 1000 non-null   object\n",
      "dtypes: int64(1), object(6)\n",
      "memory usage: 54.8+ KB\n"
     ]
    }
   ],
   "source": [
    "df.info()"
   ]
  },
  {
   "cell_type": "markdown",
   "id": "06d7892a",
   "metadata": {},
   "source": [
    "# Preprocessing Data"
   ]
  },
  {
   "cell_type": "markdown",
   "id": "4cfeefc1",
   "metadata": {},
   "source": [
    "Mengelompokkan data penghasilan orang tua : rendah, sedang, tinggi"
   ]
  },
  {
   "cell_type": "code",
   "execution_count": 154,
   "id": "a168c450",
   "metadata": {},
   "outputs": [],
   "source": [
    "df_binning = df.copy()"
   ]
  },
  {
   "cell_type": "markdown",
   "id": "cc043814",
   "metadata": {},
   "source": [
    "Membuat Fungsi kategori penghasilan"
   ]
  },
  {
   "cell_type": "code",
   "execution_count": 155,
   "id": "652f490c",
   "metadata": {},
   "outputs": [],
   "source": [
    "def kategori_penghasilan(nilai):\n",
    "    if nilai <= 1500000:\n",
    "        return 'Rendah'\n",
    "    elif nilai <= 3000000:\n",
    "        return 'Sedang'\n",
    "    else:\n",
    "        return 'Tinggi'"
   ]
  },
  {
   "cell_type": "code",
   "execution_count": 156,
   "id": "ad079982",
   "metadata": {},
   "outputs": [],
   "source": [
    "df_binning['Penghasilan Orang Tua'] = df['Penghasilan Orang Tua'].apply(kategori_penghasilan)\n",
    "\n",
    "cek = pd.DataFrame({\n",
    "    'Penghasilan Orang Tua': df['Penghasilan Orang Tua'],\n",
    "    'Kategori': df_binning['Penghasilan Orang Tua']\n",
    "})"
   ]
  },
  {
   "cell_type": "markdown",
   "id": "64957e0a",
   "metadata": {},
   "source": [
    "Manampilkan Plot jumlah masing-masing kategori"
   ]
  },
  {
   "cell_type": "code",
   "execution_count": 157,
   "id": "3ee92c37",
   "metadata": {},
   "outputs": [
    {
     "data": {
      "image/png": "[encoded data removed]",
      "text/plain": [
       "<Figure size 800x500 with 1 Axes>"
      ]
     },
     "metadata": {},
     "output_type": "display_data"
    }
   ],
   "source": [
    "counts = df_binning['Penghasilan Orang Tua'].value_counts().sort_index()\n",
    "\n",
    "plt.figure(figsize=(8,5))\n",
    "counts.plot(kind='bar')\n",
    "plt.title('Distribusi Kategori Penghasilan Orang Tua')\n",
    "plt.xlabel('Kategori Penghasilan')\n",
    "plt.ylabel('Jumlah Siswa')\n",
    "plt.xticks(rotation=0)\n",
    "plt.show()\n"
   ]
  },
  {
   "cell_type": "markdown",
   "id": "5d60bb4a",
   "metadata": {},
   "source": [
    "Menampilkan nilai Unik tiap kolom"
   ]
  },
  {
   "cell_type": "code",
   "execution_count": 158,
   "id": "93addd1a",
   "metadata": {},
   "outputs": [
    {
     "name": "stdout",
     "output_type": "stream",
     "text": [
      "Kolom 'Alat Transportasi' memiliki nilai unik sebanyak 3:\n",
      "['Sepeda motor' 'Jalan kaki' 'Lainnya']\n",
      "----------------------------------------\n",
      "Kolom 'Pekerjaan Orang Tua' memiliki nilai unik sebanyak 5:\n",
      "['Wirausaha' 'Lainnya' 'Peternak' 'Petani' 'Buruh']\n",
      "----------------------------------------\n",
      "Kolom 'Penghasilan Orang Tua' memiliki nilai unik sebanyak 3:\n",
      "['Tinggi' 'Sedang' 'Rendah']\n",
      "----------------------------------------\n",
      "Kolom 'Jumlah Tanggungan' memiliki nilai unik sebanyak 4:\n",
      "['1' 'Lebih dari 3' '2' '3']\n",
      "----------------------------------------\n",
      "Kolom 'Pemilik KIP' memiliki nilai unik sebanyak 2:\n",
      "['Tidak' 'Ya']\n",
      "----------------------------------------\n",
      "Kolom 'Pemilik KPS' memiliki nilai unik sebanyak 2:\n",
      "['Tidak' 'Ya']\n",
      "----------------------------------------\n",
      "Kolom 'Status' memiliki nilai unik sebanyak 2:\n",
      "['Tidak Layak' 'Layak']\n",
      "----------------------------------------\n"
     ]
    }
   ],
   "source": [
    "for col in df_binning.columns:\n",
    "    unique_vals = df_binning[col].unique()\n",
    "    print(f\"Kolom '{col}' memiliki nilai unik sebanyak {len(unique_vals)}:\")\n",
    "    print(unique_vals)\n",
    "    print('-' * 40)"
   ]
  },
  {
   "cell_type": "markdown",
   "id": "39fc334f",
   "metadata": {},
   "source": [
    "Mapping kolom Status Layak: 1, Tidak Layak: 0"
   ]
  },
  {
   "cell_type": "code",
   "execution_count": 159,
   "id": "0df9cb4d",
   "metadata": {},
   "outputs": [
    {
     "data": {
      "text/html": [
       "<div>\n",
       "<style scoped>\n",
       "    .dataframe tbody tr th:only-of-type {\n",
       "        vertical-align: middle;\n",
       "    }\n",
       "\n",
       "    .dataframe tbody tr th {\n",
       "        vertical-align: top;\n",
       "    }\n",
       "\n",
       "    .dataframe thead th {\n",
       "        text-align: right;\n",
       "    }\n",
       "</style>\n",
       "<table border=\"1\" class=\"dataframe\">\n",
       "  <thead>\n",
       "    <tr style=\"text-align: right;\">\n",
       "      <th></th>\n",
       "      <th>Alat Transportasi</th>\n",
       "      <th>Pekerjaan Orang Tua</th>\n",
       "      <th>Penghasilan Orang Tua</th>\n",
       "      <th>Jumlah Tanggungan</th>\n",
       "      <th>Pemilik KIP</th>\n",
       "      <th>Pemilik KPS</th>\n",
       "      <th>Status</th>\n",
       "    </tr>\n",
       "  </thead>\n",
       "  <tbody>\n",
       "    <tr>\n",
       "      <th>0</th>\n",
       "      <td>Sepeda motor</td>\n",
       "      <td>Wirausaha</td>\n",
       "      <td>Tinggi</td>\n",
       "      <td>1</td>\n",
       "      <td>Tidak</td>\n",
       "      <td>Tidak</td>\n",
       "      <td>0</td>\n",
       "    </tr>\n",
       "    <tr>\n",
       "      <th>1</th>\n",
       "      <td>Jalan kaki</td>\n",
       "      <td>Lainnya</td>\n",
       "      <td>Tinggi</td>\n",
       "      <td>Lebih dari 3</td>\n",
       "      <td>Tidak</td>\n",
       "      <td>Tidak</td>\n",
       "      <td>1</td>\n",
       "    </tr>\n",
       "    <tr>\n",
       "      <th>2</th>\n",
       "      <td>Lainnya</td>\n",
       "      <td>Peternak</td>\n",
       "      <td>Tinggi</td>\n",
       "      <td>2</td>\n",
       "      <td>Tidak</td>\n",
       "      <td>Tidak</td>\n",
       "      <td>0</td>\n",
       "    </tr>\n",
       "    <tr>\n",
       "      <th>3</th>\n",
       "      <td>Sepeda motor</td>\n",
       "      <td>Lainnya</td>\n",
       "      <td>Tinggi</td>\n",
       "      <td>2</td>\n",
       "      <td>Tidak</td>\n",
       "      <td>Tidak</td>\n",
       "      <td>1</td>\n",
       "    </tr>\n",
       "    <tr>\n",
       "      <th>4</th>\n",
       "      <td>Sepeda motor</td>\n",
       "      <td>Wirausaha</td>\n",
       "      <td>Tinggi</td>\n",
       "      <td>Lebih dari 3</td>\n",
       "      <td>Tidak</td>\n",
       "      <td>Tidak</td>\n",
       "      <td>1</td>\n",
       "    </tr>\n",
       "  </tbody>\n",
       "</table>\n",
       "</div>"
      ],
      "text/plain": [
       "  Alat Transportasi Pekerjaan Orang Tua Penghasilan Orang Tua  \\\n",
       "0      Sepeda motor           Wirausaha                Tinggi   \n",
       "1        Jalan kaki             Lainnya                Tinggi   \n",
       "2           Lainnya            Peternak                Tinggi   \n",
       "3      Sepeda motor             Lainnya                Tinggi   \n",
       "4      Sepeda motor           Wirausaha                Tinggi   \n",
       "\n",
       "  Jumlah Tanggungan Pemilik KIP Pemilik KPS  Status  \n",
       "0                 1       Tidak       Tidak       0  \n",
       "1      Lebih dari 3       Tidak       Tidak       1  \n",
       "2                 2       Tidak       Tidak       0  \n",
       "3                 2       Tidak       Tidak       1  \n",
       "4      Lebih dari 3       Tidak       Tidak       1  "
      ]
     },
     "execution_count": 159,
     "metadata": {},
     "output_type": "execute_result"
    }
   ],
   "source": [
    "df = df_binning.copy()\n",
    "mapping = {'Layak': 1, 'Tidak Layak': 0}\n",
    "df['Status'] = df['Status'].map(mapping)\n",
    "df.head()"
   ]
  },
  {
   "cell_type": "markdown",
   "id": "1c7ef876",
   "metadata": {},
   "source": [
    "Meng Encode Kolom Kategori"
   ]
  },
  {
   "cell_type": "code",
   "execution_count": 160,
   "id": "8f698444",
   "metadata": {},
   "outputs": [],
   "source": [
    "def fit_label_encoders(unique_values):\n",
    "    label_encoders = {}\n",
    "    for col, classes in unique_values.items():\n",
    "        le = LabelEncoder()\n",
    "        le.fit(classes)\n",
    "        label_encoders[col] = le\n",
    "    return label_encoders\n",
    "\n",
    "def transform_df(df, label_encoders):\n",
    "    df_encoded = df.copy()\n",
    "    for col, le in label_encoders.items():\n",
    "        if col in df_encoded.columns:\n",
    "            # Pastikan nilai di df ada dalam kelas yang sudah fit\n",
    "            unknown_mask = ~df_encoded[col].isin(le.classes_)\n",
    "            if unknown_mask.any():\n",
    "                raise ValueError(\n",
    "                    f\"Kolom '{col}' mengandung kategori yang tidak dikenal: \"\n",
    "                    f\"{df_encoded.loc[unknown_mask, col].unique()}\"\n",
    "                )\n",
    "            df_encoded[col] = le.transform(df_encoded[col])\n",
    "    return df_encoded\n",
    "\n",
    "unique_values = {\n",
    "    'Alat Transportasi': ['Jalan kaki', 'Sepeda motor', 'Lainnya'],\n",
    "    'Pekerjaan Orang Tua': ['Wirausaha', 'Lainnya', 'Peternak', 'Petani', 'Buruh'],\n",
    "    'Penghasilan Orang Tua': ['Tinggi', 'Sedang', 'Rendah'],\n",
    "    'Jumlah Tanggungan': ['1', 'Lebih dari 3', '2', '3'],\n",
    "    'Pemilik KIP': ['Tidak', 'Ya'],\n",
    "    'Pemilik KPS': ['Tidak', 'Ya']\n",
    "}\n",
    "\n",
    "# Fit encoder (sekali untuk kelas lengkap)\n",
    "label_encoders = fit_label_encoders(unique_values)"
   ]
  },
  {
   "cell_type": "code",
   "execution_count": 161,
   "id": "22982f5c",
   "metadata": {},
   "outputs": [
    {
     "data": {
      "text/html": [
       "<div>\n",
       "<style scoped>\n",
       "    .dataframe tbody tr th:only-of-type {\n",
       "        vertical-align: middle;\n",
       "    }\n",
       "\n",
       "    .dataframe tbody tr th {\n",
       "        vertical-align: top;\n",
       "    }\n",
       "\n",
       "    .dataframe thead th {\n",
       "        text-align: right;\n",
       "    }\n",
       "</style>\n",
       "<table border=\"1\" class=\"dataframe\">\n",
       "  <thead>\n",
       "    <tr style=\"text-align: right;\">\n",
       "      <th></th>\n",
       "      <th>Alat Transportasi</th>\n",
       "      <th>Pekerjaan Orang Tua</th>\n",
       "      <th>Penghasilan Orang Tua</th>\n",
       "      <th>Jumlah Tanggungan</th>\n",
       "      <th>Pemilik KIP</th>\n",
       "      <th>Pemilik KPS</th>\n",
       "      <th>Status</th>\n",
       "    </tr>\n",
       "  </thead>\n",
       "  <tbody>\n",
       "    <tr>\n",
       "      <th>0</th>\n",
       "      <td>2</td>\n",
       "      <td>4</td>\n",
       "      <td>2</td>\n",
       "      <td>0</td>\n",
       "      <td>0</td>\n",
       "      <td>0</td>\n",
       "      <td>0</td>\n",
       "    </tr>\n",
       "    <tr>\n",
       "      <th>1</th>\n",
       "      <td>0</td>\n",
       "      <td>1</td>\n",
       "      <td>2</td>\n",
       "      <td>3</td>\n",
       "      <td>0</td>\n",
       "      <td>0</td>\n",
       "      <td>1</td>\n",
       "    </tr>\n",
       "    <tr>\n",
       "      <th>2</th>\n",
       "      <td>1</td>\n",
       "      <td>3</td>\n",
       "      <td>2</td>\n",
       "      <td>1</td>\n",
       "      <td>0</td>\n",
       "      <td>0</td>\n",
       "      <td>0</td>\n",
       "    </tr>\n",
       "    <tr>\n",
       "      <th>3</th>\n",
       "      <td>2</td>\n",
       "      <td>1</td>\n",
       "      <td>2</td>\n",
       "      <td>1</td>\n",
       "      <td>0</td>\n",
       "      <td>0</td>\n",
       "      <td>1</td>\n",
       "    </tr>\n",
       "    <tr>\n",
       "      <th>4</th>\n",
       "      <td>2</td>\n",
       "      <td>4</td>\n",
       "      <td>2</td>\n",
       "      <td>3</td>\n",
       "      <td>0</td>\n",
       "      <td>0</td>\n",
       "      <td>1</td>\n",
       "    </tr>\n",
       "  </tbody>\n",
       "</table>\n",
       "</div>"
      ],
      "text/plain": [
       "   Alat Transportasi  Pekerjaan Orang Tua  Penghasilan Orang Tua  \\\n",
       "0                  2                    4                      2   \n",
       "1                  0                    1                      2   \n",
       "2                  1                    3                      2   \n",
       "3                  2                    1                      2   \n",
       "4                  2                    4                      2   \n",
       "\n",
       "   Jumlah Tanggungan  Pemilik KIP  Pemilik KPS  Status  \n",
       "0                  0            0            0       0  \n",
       "1                  3            0            0       1  \n",
       "2                  1            0            0       0  \n",
       "3                  1            0            0       1  \n",
       "4                  3            0            0       1  "
      ]
     },
     "execution_count": 161,
     "metadata": {},
     "output_type": "execute_result"
    }
   ],
   "source": [
    "df_encoded = transform_df(df, label_encoders)\n",
    "df_encoded.head()"
   ]
  },
  {
   "cell_type": "markdown",
   "id": "91f26138",
   "metadata": {},
   "source": [
    "## Spliting data"
   ]
  },
  {
   "cell_type": "code",
   "execution_count": 162,
   "id": "ae480cac",
   "metadata": {},
   "outputs": [
    {
     "name": "stdout",
     "output_type": "stream",
     "text": [
      "X_train shape: (800, 6)\n",
      "X_test shape: (200, 6)\n",
      "y_train shape: (800,)\n",
      "y_test shape: (200,)\n"
     ]
    }
   ],
   "source": [
    "X = df_encoded.drop(columns=['Status'])\n",
    "y = df_encoded['Status']\n",
    "\n",
    "X_train, X_test, y_train, y_test = train_test_split(X, y, test_size=0.2, random_state=42)\n",
    "\n",
    "print(f\"X_train shape: {X_train.shape}\")\n",
    "print(f\"X_test shape: {X_test.shape}\")\n",
    "print(f\"y_train shape: {y_train.shape}\")\n",
    "print(f\"y_test shape: {y_test.shape}\")"
   ]
  },
  {
   "cell_type": "markdown",
   "id": "33ea5db0",
   "metadata": {},
   "source": [
    "## Model Development dengan Artificial Neural Network (ANN)"
   ]
  },
  {
   "cell_type": "markdown",
   "id": "272d23d4",
   "metadata": {},
   "source": [
    "Build model ANN"
   ]
  },
  {
   "cell_type": "code",
   "execution_count": 163,
   "id": "15b402ee",
   "metadata": {},
   "outputs": [
    {
     "name": "stdout",
     "output_type": "stream",
     "text": [
      "Model: \"sequential_5\"\n",
      "_________________________________________________________________\n",
      " Layer (type)                Output Shape              Param #   \n",
      "=================================================================\n",
      " dense_15 (Dense)            (None, 64)                448       \n",
      "                                                                 \n",
      " dropout_10 (Dropout)        (None, 64)                0         \n",
      "                                                                 \n",
      " dense_16 (Dense)            (None, 64)                4160      \n",
      "                                                                 \n",
      " dropout_11 (Dropout)        (None, 64)                0         \n",
      "                                                                 \n",
      " dense_17 (Dense)            (None, 1)                 65        \n",
      "                                                                 \n",
      "=================================================================\n",
      "Total params: 4673 (18.25 KB)\n",
      "Trainable params: 4673 (18.25 KB)\n",
      "Non-trainable params: 0 (0.00 Byte)\n",
      "_________________________________________________________________\n"
     ]
    }
   ],
   "source": [
    "model_ann = Sequential([\n",
    "    Dense(64, activation='relu', input_shape=(X_train.shape[1],)),\n",
    "    Dropout(0.5),\n",
    "    Dense(64, activation='relu'),\n",
    "    Dropout(0.3),\n",
    "    Dense(1, activation='sigmoid')\n",
    "])\n",
    "\n",
    "model_ann.compile(optimizer= Adam(learning_rate=0.001),\n",
    "              loss='binary_crossentropy',\n",
    "              metrics=['accuracy'])\n",
    "\n",
    "model_ann.summary()"
   ]
  },
  {
   "cell_type": "markdown",
   "id": "d2542af2",
   "metadata": {},
   "source": [
    "### Callback"
   ]
  },
  {
   "cell_type": "code",
   "execution_count": 164,
   "id": "95fca72a",
   "metadata": {},
   "outputs": [],
   "source": [
    "early_stop = EarlyStopping(\n",
    "    monitor='val_loss',\n",
    "    patience=3,\n",
    "    restore_best_weights=True\n",
    ")"
   ]
  },
  {
   "cell_type": "markdown",
   "id": "80238bfa",
   "metadata": {},
   "source": [
    "# Training Model"
   ]
  },
  {
   "cell_type": "code",
   "execution_count": 165,
   "id": "d2441495",
   "metadata": {},
   "outputs": [
    {
     "name": "stdout",
     "output_type": "stream",
     "text": [
      "Epoch 1/50\n",
      "40/40 [==============================] - 1s 5ms/step - loss: 0.5493 - accuracy: 0.7484 - val_loss: 0.4784 - val_accuracy: 0.7688\n",
      "Epoch 2/50\n",
      "40/40 [==============================] - 0s 2ms/step - loss: 0.4510 - accuracy: 0.7828 - val_loss: 0.4280 - val_accuracy: 0.7812\n",
      "Epoch 3/50\n",
      "40/40 [==============================] - 0s 2ms/step - loss: 0.4200 - accuracy: 0.7859 - val_loss: 0.3875 - val_accuracy: 0.7437\n",
      "Epoch 4/50\n",
      "40/40 [==============================] - 0s 2ms/step - loss: 0.3718 - accuracy: 0.8250 - val_loss: 0.3520 - val_accuracy: 0.8000\n",
      "Epoch 5/50\n",
      "40/40 [==============================] - 0s 2ms/step - loss: 0.3366 - accuracy: 0.8359 - val_loss: 0.3257 - val_accuracy: 0.8250\n",
      "Epoch 6/50\n",
      "40/40 [==============================] - 0s 2ms/step - loss: 0.3184 - accuracy: 0.8469 - val_loss: 0.3128 - val_accuracy: 0.8375\n",
      "Epoch 7/50\n",
      "40/40 [==============================] - 0s 2ms/step - loss: 0.3116 - accuracy: 0.8391 - val_loss: 0.2948 - val_accuracy: 0.8188\n",
      "Epoch 8/50\n",
      "40/40 [==============================] - 0s 2ms/step - loss: 0.3028 - accuracy: 0.8547 - val_loss: 0.2960 - val_accuracy: 0.8438\n",
      "Epoch 9/50\n",
      "40/40 [==============================] - 0s 2ms/step - loss: 0.2918 - accuracy: 0.8609 - val_loss: 0.2858 - val_accuracy: 0.8438\n",
      "Epoch 10/50\n",
      "40/40 [==============================] - 0s 2ms/step - loss: 0.2726 - accuracy: 0.8656 - val_loss: 0.2845 - val_accuracy: 0.8438\n",
      "Epoch 11/50\n",
      "40/40 [==============================] - 0s 2ms/step - loss: 0.2831 - accuracy: 0.8672 - val_loss: 0.2712 - val_accuracy: 0.8438\n",
      "Epoch 12/50\n",
      "40/40 [==============================] - 0s 2ms/step - loss: 0.2633 - accuracy: 0.8656 - val_loss: 0.2677 - val_accuracy: 0.8375\n",
      "Epoch 13/50\n",
      "40/40 [==============================] - 0s 2ms/step - loss: 0.2642 - accuracy: 0.8719 - val_loss: 0.2625 - val_accuracy: 0.8687\n",
      "Epoch 14/50\n",
      "40/40 [==============================] - 0s 2ms/step - loss: 0.2557 - accuracy: 0.8766 - val_loss: 0.2564 - val_accuracy: 0.8562\n",
      "Epoch 15/50\n",
      "40/40 [==============================] - 0s 2ms/step - loss: 0.2431 - accuracy: 0.8922 - val_loss: 0.2565 - val_accuracy: 0.8625\n",
      "Epoch 16/50\n",
      "40/40 [==============================] - 0s 2ms/step - loss: 0.2343 - accuracy: 0.8938 - val_loss: 0.2465 - val_accuracy: 0.8562\n",
      "Epoch 17/50\n",
      "40/40 [==============================] - 0s 2ms/step - loss: 0.2374 - accuracy: 0.8875 - val_loss: 0.2395 - val_accuracy: 0.8938\n",
      "Epoch 18/50\n",
      "40/40 [==============================] - 0s 2ms/step - loss: 0.2223 - accuracy: 0.8969 - val_loss: 0.2440 - val_accuracy: 0.8875\n",
      "Epoch 19/50\n",
      "40/40 [==============================] - 0s 2ms/step - loss: 0.2318 - accuracy: 0.8969 - val_loss: 0.2373 - val_accuracy: 0.8938\n",
      "Epoch 20/50\n",
      "40/40 [==============================] - 0s 2ms/step - loss: 0.2186 - accuracy: 0.9000 - val_loss: 0.2367 - val_accuracy: 0.8875\n",
      "Epoch 21/50\n",
      "40/40 [==============================] - 0s 2ms/step - loss: 0.2142 - accuracy: 0.9062 - val_loss: 0.2302 - val_accuracy: 0.8813\n",
      "Epoch 22/50\n",
      "40/40 [==============================] - 0s 2ms/step - loss: 0.2130 - accuracy: 0.9000 - val_loss: 0.2276 - val_accuracy: 0.8875\n",
      "Epoch 23/50\n",
      "40/40 [==============================] - 0s 2ms/step - loss: 0.2072 - accuracy: 0.9016 - val_loss: 0.2303 - val_accuracy: 0.8938\n",
      "Epoch 24/50\n",
      "40/40 [==============================] - 0s 2ms/step - loss: 0.1956 - accuracy: 0.9156 - val_loss: 0.2232 - val_accuracy: 0.8938\n",
      "Epoch 25/50\n",
      "40/40 [==============================] - 0s 2ms/step - loss: 0.2106 - accuracy: 0.9000 - val_loss: 0.2267 - val_accuracy: 0.8938\n",
      "Epoch 26/50\n",
      "40/40 [==============================] - 0s 2ms/step - loss: 0.2076 - accuracy: 0.9031 - val_loss: 0.2233 - val_accuracy: 0.8938\n",
      "Epoch 27/50\n",
      "40/40 [==============================] - 0s 2ms/step - loss: 0.1977 - accuracy: 0.9078 - val_loss: 0.2173 - val_accuracy: 0.8938\n",
      "Epoch 28/50\n",
      "40/40 [==============================] - 0s 2ms/step - loss: 0.1863 - accuracy: 0.9203 - val_loss: 0.2231 - val_accuracy: 0.8875\n",
      "Epoch 29/50\n",
      "40/40 [==============================] - 0s 2ms/step - loss: 0.1840 - accuracy: 0.9187 - val_loss: 0.2247 - val_accuracy: 0.8938\n",
      "Epoch 30/50\n",
      "40/40 [==============================] - 0s 1ms/step - loss: 0.1870 - accuracy: 0.9187 - val_loss: 0.2267 - val_accuracy: 0.8938\n"
     ]
    }
   ],
   "source": [
    "# Train model\n",
    "history_ann = model_ann.fit(\n",
    "    X_train, y_train,\n",
    "    epochs=50,\n",
    "    batch_size=16,\n",
    "    validation_split=0.2,\n",
    "    callbacks=[early_stop],\n",
    "    verbose=1\n",
    ")"
   ]
  },
  {
   "cell_type": "markdown",
   "id": "669c3c82",
   "metadata": {},
   "source": [
    "Menampilkan Plot training history dari accuracy dan loss"
   ]
  },
  {
   "cell_type": "code",
   "execution_count": 166,
   "id": "07a80be5",
   "metadata": {},
   "outputs": [
    {
     "data": {
      "image/png": "[encoded data removed]",
      "text/plain": [
       "<Figure size 1200x400 with 2 Axes>"
      ]
     },
     "metadata": {},
     "output_type": "display_data"
    }
   ],
   "source": [
    "plt.figure(figsize=(12, 4))\n",
    "plt.subplot(1, 2, 1)\n",
    "plt.plot(history_ann.history['accuracy'], label='Train Accuracy')\n",
    "plt.plot(history_ann.history['val_accuracy'], label='Validation Accuracy')\n",
    "plt.title('Model Accuracy')\n",
    "plt.xlabel('Epochs')\n",
    "plt.ylabel('Accuracy')\n",
    "plt.legend()\n",
    "\n",
    "plt.subplot(1, 2, 2)\n",
    "plt.plot(history_ann.history['loss'], label='Train Loss')\n",
    "plt.plot(history_ann.history['val_loss'], label='Validation Loss')\n",
    "plt.title('Model Loss')\n",
    "plt.xlabel('Epochs')\n",
    "plt.ylabel('Loss')\n",
    "plt.legend()\n",
    "plt.tight_layout()\n",
    "plt.show()"
   ]
  },
  {
   "cell_type": "markdown",
   "id": "14c89127",
   "metadata": {},
   "source": [
    "## Evaluasi model"
   ]
  },
  {
   "cell_type": "code",
   "execution_count": 167,
   "id": "c5c26888",
   "metadata": {},
   "outputs": [
    {
     "name": "stdout",
     "output_type": "stream",
     "text": [
      "7/7 [==============================] - 0s 1ms/step - loss: 0.2075 - accuracy: 0.9100\n",
      "25/25 [==============================] - 0s 1ms/step - loss: 0.1751 - accuracy: 0.9237\n",
      "=====================================\n",
      "Hasil Evaluasi model ANN\n",
      "=====================================\n",
      "Test Accuracy: 0.9100000262260437\n",
      "Test Loss: 0.20753419399261475\n",
      "=====================================\n",
      "Train Accuracy: 0.9237499833106995\n",
      "Train Loss: 0.17508287727832794\n"
     ]
    }
   ],
   "source": [
    "loss, accuracy = model_ann.evaluate(X_test, y_test)\n",
    "loss_train, accuracy_train = model_ann.evaluate(X_train, y_train)\n",
    "\n",
    "\n",
    "print(\"=====================================\")\n",
    "print(\"Hasil Evaluasi model ANN\")\n",
    "print(\"=====================================\")\n",
    "print(f\"Test Accuracy: {accuracy}\")\n",
    "print(f\"Test Loss: {loss}\")\n",
    "print(\"=====================================\")\n",
    "print(f\"Train Accuracy: {accuracy_train}\")\n",
    "print(f\"Train Loss: {loss_train}\")\n"
   ]
  },
  {
   "cell_type": "markdown",
   "id": "78fa88fc",
   "metadata": {},
   "source": [
    "Menampilkan Confusion matrix"
   ]
  },
  {
   "cell_type": "code",
   "execution_count": 168,
   "id": "cccf564d",
   "metadata": {},
   "outputs": [
    {
     "name": "stdout",
     "output_type": "stream",
     "text": [
      "7/7 [==============================] - 0s 1ms/step\n"
     ]
    },
    {
     "data": {
      "image/png": "[encoded data removed]",
      "text/plain": [
       "<Figure size 800x600 with 2 Axes>"
      ]
     },
     "metadata": {},
     "output_type": "display_data"
    }
   ],
   "source": [
    "y_pred_ann = model_ann.predict(X_test)\n",
    "y_pred_ann = (y_pred_ann > 0.5).astype(int)\n",
    "\n",
    "cm = confusion_matrix(y_test, y_pred_ann)\n",
    "plt.figure(figsize=(8, 6))\n",
    "sns.heatmap(cm, annot=True, fmt='d', cmap='Blues', cbar=True)\n",
    "plt.title('Confusion Matrix')\n",
    "plt.xlabel('Predicted')\n",
    "plt.ylabel('True')\n",
    "plt.show()"
   ]
  },
  {
   "cell_type": "markdown",
   "id": "f4ed672c",
   "metadata": {},
   "source": [
    "Menampilkan classification report"
   ]
  },
  {
   "cell_type": "code",
   "execution_count": 169,
   "id": "6d11de1a",
   "metadata": {},
   "outputs": [
    {
     "name": "stdout",
     "output_type": "stream",
     "text": [
      "              precision    recall  f1-score   support\n",
      "\n",
      "           0       0.74      1.00      0.85        52\n",
      "           1       1.00      0.88      0.94       148\n",
      "\n",
      "    accuracy                           0.91       200\n",
      "   macro avg       0.87      0.94      0.89       200\n",
      "weighted avg       0.93      0.91      0.91       200\n",
      "\n"
     ]
    }
   ],
   "source": [
    "print(classification_report(y_test, y_pred_ann))"
   ]
  },
  {
   "cell_type": "markdown",
   "id": "caf47b7c",
   "metadata": {},
   "source": [
    "Menyimpan bobot model ke file HDF5"
   ]
  },
  {
   "cell_type": "code",
   "execution_count": 170,
   "id": "2a217b94",
   "metadata": {},
   "outputs": [],
   "source": [
    "# model_ann.save(\"model/model_ann.h5\")"
   ]
  },
  {
   "cell_type": "markdown",
   "id": "7bbeba80",
   "metadata": {},
   "source": [
    "### Evaluasi pada 10 data actual berlabel"
   ]
  },
  {
   "cell_type": "markdown",
   "id": "803a3f4f",
   "metadata": {},
   "source": [
    "### Load Model"
   ]
  },
  {
   "cell_type": "code",
   "execution_count": 171,
   "id": "350b25ae",
   "metadata": {},
   "outputs": [],
   "source": [
    "model = load_model('model/model_ann.h5')"
   ]
  },
  {
   "cell_type": "markdown",
   "id": "be7a85f7",
   "metadata": {},
   "source": [
    "Load data"
   ]
  },
  {
   "cell_type": "code",
   "execution_count": 172,
   "id": "b5a986ba",
   "metadata": {},
   "outputs": [],
   "source": [
    "df_label = pd.read_excel('data_test/data_actual.xlsx')"
   ]
  },
  {
   "cell_type": "markdown",
   "id": "9cf2f3e3",
   "metadata": {},
   "source": [
    "Data Preprocessing"
   ]
  },
  {
   "cell_type": "code",
   "execution_count": 173,
   "id": "11c9831c",
   "metadata": {},
   "outputs": [
    {
     "data": {
      "text/html": [
       "<div>\n",
       "<style scoped>\n",
       "    .dataframe tbody tr th:only-of-type {\n",
       "        vertical-align: middle;\n",
       "    }\n",
       "\n",
       "    .dataframe tbody tr th {\n",
       "        vertical-align: top;\n",
       "    }\n",
       "\n",
       "    .dataframe thead th {\n",
       "        text-align: right;\n",
       "    }\n",
       "</style>\n",
       "<table border=\"1\" class=\"dataframe\">\n",
       "  <thead>\n",
       "    <tr style=\"text-align: right;\">\n",
       "      <th></th>\n",
       "      <th>Alat Transportasi</th>\n",
       "      <th>Pekerjaan Orang Tua</th>\n",
       "      <th>Penghasilan Orang Tua</th>\n",
       "      <th>Jumlah Tanggungan</th>\n",
       "      <th>Pemilik KIP</th>\n",
       "      <th>Pemilik KPS</th>\n",
       "    </tr>\n",
       "  </thead>\n",
       "  <tbody>\n",
       "    <tr>\n",
       "      <th>0</th>\n",
       "      <td>Jalan kaki</td>\n",
       "      <td>Wirausaha</td>\n",
       "      <td>Tinggi</td>\n",
       "      <td>1</td>\n",
       "      <td>Tidak</td>\n",
       "      <td>Tidak</td>\n",
       "    </tr>\n",
       "    <tr>\n",
       "      <th>1</th>\n",
       "      <td>Sepeda motor</td>\n",
       "      <td>Lainnya</td>\n",
       "      <td>Tinggi</td>\n",
       "      <td>Lebih dari 3</td>\n",
       "      <td>Tidak</td>\n",
       "      <td>Tidak</td>\n",
       "    </tr>\n",
       "    <tr>\n",
       "      <th>2</th>\n",
       "      <td>Jalan kaki</td>\n",
       "      <td>Peternak</td>\n",
       "      <td>Tinggi</td>\n",
       "      <td>2</td>\n",
       "      <td>Tidak</td>\n",
       "      <td>Tidak</td>\n",
       "    </tr>\n",
       "    <tr>\n",
       "      <th>3</th>\n",
       "      <td>Jalan kaki</td>\n",
       "      <td>Lainnya</td>\n",
       "      <td>Tinggi</td>\n",
       "      <td>2</td>\n",
       "      <td>Tidak</td>\n",
       "      <td>Tidak</td>\n",
       "    </tr>\n",
       "    <tr>\n",
       "      <th>4</th>\n",
       "      <td>Sepeda motor</td>\n",
       "      <td>Wirausaha</td>\n",
       "      <td>Tinggi</td>\n",
       "      <td>Lebih dari 3</td>\n",
       "      <td>Tidak</td>\n",
       "      <td>Tidak</td>\n",
       "    </tr>\n",
       "  </tbody>\n",
       "</table>\n",
       "</div>"
      ],
      "text/plain": [
       "  Alat Transportasi Pekerjaan Orang Tua Penghasilan Orang Tua  \\\n",
       "0        Jalan kaki           Wirausaha                Tinggi   \n",
       "1      Sepeda motor             Lainnya                Tinggi   \n",
       "2        Jalan kaki            Peternak                Tinggi   \n",
       "3        Jalan kaki             Lainnya                Tinggi   \n",
       "4      Sepeda motor           Wirausaha                Tinggi   \n",
       "\n",
       "  Jumlah Tanggungan Pemilik KIP Pemilik KPS  \n",
       "0                 1       Tidak       Tidak  \n",
       "1      Lebih dari 3       Tidak       Tidak  \n",
       "2                 2       Tidak       Tidak  \n",
       "3                 2       Tidak       Tidak  \n",
       "4      Lebih dari 3       Tidak       Tidak  "
      ]
     },
     "execution_count": 173,
     "metadata": {},
     "output_type": "execute_result"
    }
   ],
   "source": [
    "df_pred = df_label.drop(columns=['Status','Nama'])\n",
    "df_pred['Penghasilan Orang Tua'] = df_pred['Penghasilan Orang Tua'].apply(kategori_penghasilan)\n",
    "df_pred.head()"
   ]
  },
  {
   "cell_type": "code",
   "execution_count": 174,
   "id": "d5494bfa",
   "metadata": {},
   "outputs": [
    {
     "data": {
      "text/html": [
       "<div>\n",
       "<style scoped>\n",
       "    .dataframe tbody tr th:only-of-type {\n",
       "        vertical-align: middle;\n",
       "    }\n",
       "\n",
       "    .dataframe tbody tr th {\n",
       "        vertical-align: top;\n",
       "    }\n",
       "\n",
       "    .dataframe thead th {\n",
       "        text-align: right;\n",
       "    }\n",
       "</style>\n",
       "<table border=\"1\" class=\"dataframe\">\n",
       "  <thead>\n",
       "    <tr style=\"text-align: right;\">\n",
       "      <th></th>\n",
       "      <th>Alat Transportasi</th>\n",
       "      <th>Pekerjaan Orang Tua</th>\n",
       "      <th>Penghasilan Orang Tua</th>\n",
       "      <th>Jumlah Tanggungan</th>\n",
       "      <th>Pemilik KIP</th>\n",
       "      <th>Pemilik KPS</th>\n",
       "    </tr>\n",
       "  </thead>\n",
       "  <tbody>\n",
       "    <tr>\n",
       "      <th>0</th>\n",
       "      <td>0</td>\n",
       "      <td>4</td>\n",
       "      <td>2</td>\n",
       "      <td>0</td>\n",
       "      <td>0</td>\n",
       "      <td>0</td>\n",
       "    </tr>\n",
       "    <tr>\n",
       "      <th>1</th>\n",
       "      <td>2</td>\n",
       "      <td>1</td>\n",
       "      <td>2</td>\n",
       "      <td>3</td>\n",
       "      <td>0</td>\n",
       "      <td>0</td>\n",
       "    </tr>\n",
       "    <tr>\n",
       "      <th>2</th>\n",
       "      <td>0</td>\n",
       "      <td>3</td>\n",
       "      <td>2</td>\n",
       "      <td>1</td>\n",
       "      <td>0</td>\n",
       "      <td>0</td>\n",
       "    </tr>\n",
       "    <tr>\n",
       "      <th>3</th>\n",
       "      <td>0</td>\n",
       "      <td>1</td>\n",
       "      <td>2</td>\n",
       "      <td>1</td>\n",
       "      <td>0</td>\n",
       "      <td>0</td>\n",
       "    </tr>\n",
       "    <tr>\n",
       "      <th>4</th>\n",
       "      <td>2</td>\n",
       "      <td>4</td>\n",
       "      <td>2</td>\n",
       "      <td>3</td>\n",
       "      <td>0</td>\n",
       "      <td>0</td>\n",
       "    </tr>\n",
       "  </tbody>\n",
       "</table>\n",
       "</div>"
      ],
      "text/plain": [
       "   Alat Transportasi  Pekerjaan Orang Tua  Penghasilan Orang Tua  \\\n",
       "0                  0                    4                      2   \n",
       "1                  2                    1                      2   \n",
       "2                  0                    3                      2   \n",
       "3                  0                    1                      2   \n",
       "4                  2                    4                      2   \n",
       "\n",
       "   Jumlah Tanggungan  Pemilik KIP  Pemilik KPS  \n",
       "0                  0            0            0  \n",
       "1                  3            0            0  \n",
       "2                  1            0            0  \n",
       "3                  1            0            0  \n",
       "4                  3            0            0  "
      ]
     },
     "execution_count": 174,
     "metadata": {},
     "output_type": "execute_result"
    }
   ],
   "source": [
    "df_pred = transform_df(df_pred, label_encoders)\n",
    "df_pred.head()"
   ]
  },
  {
   "cell_type": "markdown",
   "id": "801c821a",
   "metadata": {},
   "source": [
    "Melakukan prediksi pada data"
   ]
  },
  {
   "cell_type": "code",
   "execution_count": 175,
   "id": "61a93335",
   "metadata": {},
   "outputs": [
    {
     "name": "stdout",
     "output_type": "stream",
     "text": [
      "1/1 [==============================] - 0s 51ms/step\n",
      "Hasil Prediksi Model pada data baru:\n",
      "  Status_actual  Status_pred\n",
      "0   Tidak Layak  Tidak Layak\n",
      "1         Layak        Layak\n",
      "2   Tidak Layak  Tidak Layak\n",
      "3         Layak  Tidak Layak\n",
      "4         Layak        Layak\n",
      "5   Tidak Layak  Tidak Layak\n",
      "6         Layak        Layak\n",
      "7         Layak        Layak\n",
      "8   Tidak Layak  Tidak Layak\n",
      "9   Tidak Layak  Tidak Layak\n",
      "============================\n",
      "Classification Report:\n",
      "              precision    recall  f1-score   support\n",
      "\n",
      " Tidak Layak       0.83      1.00      0.91         5\n",
      "       Layak       1.00      0.80      0.89         5\n",
      "\n",
      "    accuracy                           0.90        10\n",
      "   macro avg       0.92      0.90      0.90        10\n",
      "weighted avg       0.92      0.90      0.90        10\n",
      "\n"
     ]
    }
   ],
   "source": [
    "y_pred_probs = model.predict(df_pred)\n",
    "y_pred = (y_pred_probs > 0.5).astype(int).reshape(-1)\n",
    "\n",
    "label_mapping = {0: 'Tidak Layak', 1: 'Layak'}\n",
    "\n",
    "df_label['Status_Pred'] = [label_mapping[p] for p in y_pred]\n",
    "\n",
    "print(\"Hasil Prediksi Model pada data baru:\")\n",
    "prediksi = pd.DataFrame({\n",
    "    'Status_actual': df_label['Status'],\n",
    "    'Status_pred': df_label['Status_Pred']\n",
    "})\n",
    "\n",
    "print(prediksi)\n",
    "\n",
    "y_true_numeric = df_label['Status'].map({'Layak': 1, 'Tidak Layak': 0})\n",
    "report = classification_report(y_true_numeric, y_pred, target_names=['Tidak Layak', 'Layak'])\n",
    "\n",
    "print(\"============================\")\n",
    "print(\"Classification Report:\")\n",
    "print(report)\n"
   ]
  },
  {
   "cell_type": "markdown",
   "id": "3404ca97",
   "metadata": {},
   "source": [
    "Insight: Berdasarkan hasil prediksi, model menunjukkan akurasi 90% dalam memprediksi status kelayakan, dengan precision tinggi pada kedua kategori ('Tidak Layak' dan 'Layak'), namun recall untuk kategori 'Layak' masih dapat diperbaiki."
   ]
  },
  {
   "cell_type": "markdown",
   "id": "db351dcc",
   "metadata": {},
   "source": [
    "## Inference"
   ]
  },
  {
   "cell_type": "markdown",
   "id": "f8635fe5",
   "metadata": {},
   "source": [
    "Load Data test"
   ]
  },
  {
   "cell_type": "code",
   "execution_count": 176,
   "id": "0e408cf3",
   "metadata": {},
   "outputs": [
    {
     "data": {
      "text/html": [
       "<div>\n",
       "<style scoped>\n",
       "    .dataframe tbody tr th:only-of-type {\n",
       "        vertical-align: middle;\n",
       "    }\n",
       "\n",
       "    .dataframe tbody tr th {\n",
       "        vertical-align: top;\n",
       "    }\n",
       "\n",
       "    .dataframe thead th {\n",
       "        text-align: right;\n",
       "    }\n",
       "</style>\n",
       "<table border=\"1\" class=\"dataframe\">\n",
       "  <thead>\n",
       "    <tr style=\"text-align: right;\">\n",
       "      <th></th>\n",
       "      <th>Alat Transportasi</th>\n",
       "      <th>Pekerjaan Orang Tua</th>\n",
       "      <th>Penghasilan Orang Tua</th>\n",
       "      <th>Jumlah Tanggungan</th>\n",
       "      <th>Pemilik KIP</th>\n",
       "      <th>Pemilik KPS</th>\n",
       "    </tr>\n",
       "  </thead>\n",
       "  <tbody>\n",
       "    <tr>\n",
       "      <th>0</th>\n",
       "      <td>Jalan kaki</td>\n",
       "      <td>Wirausaha</td>\n",
       "      <td>4213001</td>\n",
       "      <td>1</td>\n",
       "      <td>Tidak</td>\n",
       "      <td>Tidak</td>\n",
       "    </tr>\n",
       "    <tr>\n",
       "      <th>1</th>\n",
       "      <td>Sepeda motor</td>\n",
       "      <td>Lainnya</td>\n",
       "      <td>3249958</td>\n",
       "      <td>Lebih dari 3</td>\n",
       "      <td>Tidak</td>\n",
       "      <td>Tidak</td>\n",
       "    </tr>\n",
       "    <tr>\n",
       "      <th>2</th>\n",
       "      <td>Jalan kaki</td>\n",
       "      <td>Peternak</td>\n",
       "      <td>4166323</td>\n",
       "      <td>2</td>\n",
       "      <td>Tidak</td>\n",
       "      <td>Tidak</td>\n",
       "    </tr>\n",
       "    <tr>\n",
       "      <th>3</th>\n",
       "      <td>Jalan kaki</td>\n",
       "      <td>Lainnya</td>\n",
       "      <td>3261966</td>\n",
       "      <td>2</td>\n",
       "      <td>Tidak</td>\n",
       "      <td>Tidak</td>\n",
       "    </tr>\n",
       "    <tr>\n",
       "      <th>4</th>\n",
       "      <td>Sepeda motor</td>\n",
       "      <td>Wirausaha</td>\n",
       "      <td>3254943</td>\n",
       "      <td>Lebih dari 3</td>\n",
       "      <td>Tidak</td>\n",
       "      <td>Tidak</td>\n",
       "    </tr>\n",
       "  </tbody>\n",
       "</table>\n",
       "</div>"
      ],
      "text/plain": [
       "  Alat Transportasi Pekerjaan Orang Tua  Penghasilan Orang Tua  \\\n",
       "0        Jalan kaki           Wirausaha                4213001   \n",
       "1      Sepeda motor             Lainnya                3249958   \n",
       "2        Jalan kaki            Peternak                4166323   \n",
       "3        Jalan kaki             Lainnya                3261966   \n",
       "4      Sepeda motor           Wirausaha                3254943   \n",
       "\n",
       "  Jumlah Tanggungan Pemilik KIP Pemilik KPS  \n",
       "0                 1       Tidak       Tidak  \n",
       "1      Lebih dari 3       Tidak       Tidak  \n",
       "2                 2       Tidak       Tidak  \n",
       "3                 2       Tidak       Tidak  \n",
       "4      Lebih dari 3       Tidak       Tidak  "
      ]
     },
     "execution_count": 176,
     "metadata": {},
     "output_type": "execute_result"
    }
   ],
   "source": [
    "df_test = pd.read_excel('data_test/data_10baris.xlsx')\n",
    "df_test = df_test.copy().drop(columns='Nama')\n",
    "df_test.head()"
   ]
  },
  {
   "cell_type": "markdown",
   "id": "d80ca2f2",
   "metadata": {},
   "source": [
    "### Data preprocessing"
   ]
  },
  {
   "cell_type": "code",
   "execution_count": 177,
   "id": "122dffcd",
   "metadata": {},
   "outputs": [
    {
     "data": {
      "text/html": [
       "<div>\n",
       "<style scoped>\n",
       "    .dataframe tbody tr th:only-of-type {\n",
       "        vertical-align: middle;\n",
       "    }\n",
       "\n",
       "    .dataframe tbody tr th {\n",
       "        vertical-align: top;\n",
       "    }\n",
       "\n",
       "    .dataframe thead th {\n",
       "        text-align: right;\n",
       "    }\n",
       "</style>\n",
       "<table border=\"1\" class=\"dataframe\">\n",
       "  <thead>\n",
       "    <tr style=\"text-align: right;\">\n",
       "      <th></th>\n",
       "      <th>Alat Transportasi</th>\n",
       "      <th>Pekerjaan Orang Tua</th>\n",
       "      <th>Penghasilan Orang Tua</th>\n",
       "      <th>Jumlah Tanggungan</th>\n",
       "      <th>Pemilik KIP</th>\n",
       "      <th>Pemilik KPS</th>\n",
       "    </tr>\n",
       "  </thead>\n",
       "  <tbody>\n",
       "    <tr>\n",
       "      <th>0</th>\n",
       "      <td>Jalan kaki</td>\n",
       "      <td>Wirausaha</td>\n",
       "      <td>Tinggi</td>\n",
       "      <td>1</td>\n",
       "      <td>Tidak</td>\n",
       "      <td>Tidak</td>\n",
       "    </tr>\n",
       "    <tr>\n",
       "      <th>1</th>\n",
       "      <td>Sepeda motor</td>\n",
       "      <td>Lainnya</td>\n",
       "      <td>Tinggi</td>\n",
       "      <td>Lebih dari 3</td>\n",
       "      <td>Tidak</td>\n",
       "      <td>Tidak</td>\n",
       "    </tr>\n",
       "    <tr>\n",
       "      <th>2</th>\n",
       "      <td>Jalan kaki</td>\n",
       "      <td>Peternak</td>\n",
       "      <td>Tinggi</td>\n",
       "      <td>2</td>\n",
       "      <td>Tidak</td>\n",
       "      <td>Tidak</td>\n",
       "    </tr>\n",
       "    <tr>\n",
       "      <th>3</th>\n",
       "      <td>Jalan kaki</td>\n",
       "      <td>Lainnya</td>\n",
       "      <td>Tinggi</td>\n",
       "      <td>2</td>\n",
       "      <td>Tidak</td>\n",
       "      <td>Tidak</td>\n",
       "    </tr>\n",
       "    <tr>\n",
       "      <th>4</th>\n",
       "      <td>Sepeda motor</td>\n",
       "      <td>Wirausaha</td>\n",
       "      <td>Tinggi</td>\n",
       "      <td>Lebih dari 3</td>\n",
       "      <td>Tidak</td>\n",
       "      <td>Tidak</td>\n",
       "    </tr>\n",
       "  </tbody>\n",
       "</table>\n",
       "</div>"
      ],
      "text/plain": [
       "  Alat Transportasi Pekerjaan Orang Tua Penghasilan Orang Tua  \\\n",
       "0        Jalan kaki           Wirausaha                Tinggi   \n",
       "1      Sepeda motor             Lainnya                Tinggi   \n",
       "2        Jalan kaki            Peternak                Tinggi   \n",
       "3        Jalan kaki             Lainnya                Tinggi   \n",
       "4      Sepeda motor           Wirausaha                Tinggi   \n",
       "\n",
       "  Jumlah Tanggungan Pemilik KIP Pemilik KPS  \n",
       "0                 1       Tidak       Tidak  \n",
       "1      Lebih dari 3       Tidak       Tidak  \n",
       "2                 2       Tidak       Tidak  \n",
       "3                 2       Tidak       Tidak  \n",
       "4      Lebih dari 3       Tidak       Tidak  "
      ]
     },
     "execution_count": 177,
     "metadata": {},
     "output_type": "execute_result"
    }
   ],
   "source": [
    "df_test['Penghasilan Orang Tua'] = df_test['Penghasilan Orang Tua'].apply(kategori_penghasilan)\n",
    "df_test.head()\n"
   ]
  },
  {
   "cell_type": "code",
   "execution_count": 178,
   "id": "6da4d35f",
   "metadata": {},
   "outputs": [
    {
     "data": {
      "text/html": [
       "<div>\n",
       "<style scoped>\n",
       "    .dataframe tbody tr th:only-of-type {\n",
       "        vertical-align: middle;\n",
       "    }\n",
       "\n",
       "    .dataframe tbody tr th {\n",
       "        vertical-align: top;\n",
       "    }\n",
       "\n",
       "    .dataframe thead th {\n",
       "        text-align: right;\n",
       "    }\n",
       "</style>\n",
       "<table border=\"1\" class=\"dataframe\">\n",
       "  <thead>\n",
       "    <tr style=\"text-align: right;\">\n",
       "      <th></th>\n",
       "      <th>Alat Transportasi</th>\n",
       "      <th>Pekerjaan Orang Tua</th>\n",
       "      <th>Penghasilan Orang Tua</th>\n",
       "      <th>Jumlah Tanggungan</th>\n",
       "      <th>Pemilik KIP</th>\n",
       "      <th>Pemilik KPS</th>\n",
       "    </tr>\n",
       "  </thead>\n",
       "  <tbody>\n",
       "    <tr>\n",
       "      <th>0</th>\n",
       "      <td>0</td>\n",
       "      <td>4</td>\n",
       "      <td>2</td>\n",
       "      <td>0</td>\n",
       "      <td>0</td>\n",
       "      <td>0</td>\n",
       "    </tr>\n",
       "    <tr>\n",
       "      <th>1</th>\n",
       "      <td>2</td>\n",
       "      <td>1</td>\n",
       "      <td>2</td>\n",
       "      <td>3</td>\n",
       "      <td>0</td>\n",
       "      <td>0</td>\n",
       "    </tr>\n",
       "    <tr>\n",
       "      <th>2</th>\n",
       "      <td>0</td>\n",
       "      <td>3</td>\n",
       "      <td>2</td>\n",
       "      <td>1</td>\n",
       "      <td>0</td>\n",
       "      <td>0</td>\n",
       "    </tr>\n",
       "    <tr>\n",
       "      <th>3</th>\n",
       "      <td>0</td>\n",
       "      <td>1</td>\n",
       "      <td>2</td>\n",
       "      <td>1</td>\n",
       "      <td>0</td>\n",
       "      <td>0</td>\n",
       "    </tr>\n",
       "    <tr>\n",
       "      <th>4</th>\n",
       "      <td>2</td>\n",
       "      <td>4</td>\n",
       "      <td>2</td>\n",
       "      <td>3</td>\n",
       "      <td>0</td>\n",
       "      <td>0</td>\n",
       "    </tr>\n",
       "    <tr>\n",
       "      <th>5</th>\n",
       "      <td>2</td>\n",
       "      <td>4</td>\n",
       "      <td>2</td>\n",
       "      <td>0</td>\n",
       "      <td>1</td>\n",
       "      <td>1</td>\n",
       "    </tr>\n",
       "  </tbody>\n",
       "</table>\n",
       "</div>"
      ],
      "text/plain": [
       "   Alat Transportasi  Pekerjaan Orang Tua  Penghasilan Orang Tua  \\\n",
       "0                  0                    4                      2   \n",
       "1                  2                    1                      2   \n",
       "2                  0                    3                      2   \n",
       "3                  0                    1                      2   \n",
       "4                  2                    4                      2   \n",
       "5                  2                    4                      2   \n",
       "\n",
       "   Jumlah Tanggungan  Pemilik KIP  Pemilik KPS  \n",
       "0                  0            0            0  \n",
       "1                  3            0            0  \n",
       "2                  1            0            0  \n",
       "3                  1            0            0  \n",
       "4                  3            0            0  \n",
       "5                  0            1            1  "
      ]
     },
     "execution_count": 178,
     "metadata": {},
     "output_type": "execute_result"
    }
   ],
   "source": [
    "df_test = transform_df(df_test, label_encoders)\n",
    "df_test.head(6)"
   ]
  },
  {
   "cell_type": "markdown",
   "id": "1fd87a69",
   "metadata": {},
   "source": [
    "Melakukan prediksi pada data baru"
   ]
  },
  {
   "cell_type": "code",
   "execution_count": 179,
   "id": "ea7ea813",
   "metadata": {},
   "outputs": [
    {
     "name": "stdout",
     "output_type": "stream",
     "text": [
      "1/1 [==============================] - 0s 21ms/step\n",
      "Hasil Prediksi Model pada data baru:\n"
     ]
    },
    {
     "data": {
      "text/html": [
       "<div>\n",
       "<style scoped>\n",
       "    .dataframe tbody tr th:only-of-type {\n",
       "        vertical-align: middle;\n",
       "    }\n",
       "\n",
       "    .dataframe tbody tr th {\n",
       "        vertical-align: top;\n",
       "    }\n",
       "\n",
       "    .dataframe thead th {\n",
       "        text-align: right;\n",
       "    }\n",
       "</style>\n",
       "<table border=\"1\" class=\"dataframe\">\n",
       "  <thead>\n",
       "    <tr style=\"text-align: right;\">\n",
       "      <th></th>\n",
       "      <th>Nama</th>\n",
       "      <th>Alat Transportasi</th>\n",
       "      <th>Pekerjaan Orang Tua</th>\n",
       "      <th>Penghasilan Orang Tua</th>\n",
       "      <th>Jumlah Tanggungan</th>\n",
       "      <th>Pemilik KIP</th>\n",
       "      <th>Pemilik KPS</th>\n",
       "      <th>Status</th>\n",
       "    </tr>\n",
       "  </thead>\n",
       "  <tbody>\n",
       "    <tr>\n",
       "      <th>0</th>\n",
       "      <td>ALDI RAHMAT TULLAH</td>\n",
       "      <td>Jalan kaki</td>\n",
       "      <td>Wirausaha</td>\n",
       "      <td>4213001</td>\n",
       "      <td>1</td>\n",
       "      <td>Tidak</td>\n",
       "      <td>Tidak</td>\n",
       "      <td>Tidak Layak</td>\n",
       "    </tr>\n",
       "    <tr>\n",
       "      <th>1</th>\n",
       "      <td>ALDIANSYA</td>\n",
       "      <td>Sepeda motor</td>\n",
       "      <td>Lainnya</td>\n",
       "      <td>3249958</td>\n",
       "      <td>Lebih dari 3</td>\n",
       "      <td>Tidak</td>\n",
       "      <td>Tidak</td>\n",
       "      <td>Layak</td>\n",
       "    </tr>\n",
       "    <tr>\n",
       "      <th>2</th>\n",
       "      <td>ALDO SAPUTRA</td>\n",
       "      <td>Jalan kaki</td>\n",
       "      <td>Peternak</td>\n",
       "      <td>4166323</td>\n",
       "      <td>2</td>\n",
       "      <td>Tidak</td>\n",
       "      <td>Tidak</td>\n",
       "      <td>Tidak Layak</td>\n",
       "    </tr>\n",
       "    <tr>\n",
       "      <th>3</th>\n",
       "      <td>ALHABIB MUHAMADNUR</td>\n",
       "      <td>Jalan kaki</td>\n",
       "      <td>Lainnya</td>\n",
       "      <td>3261966</td>\n",
       "      <td>2</td>\n",
       "      <td>Tidak</td>\n",
       "      <td>Tidak</td>\n",
       "      <td>Tidak Layak</td>\n",
       "    </tr>\n",
       "    <tr>\n",
       "      <th>4</th>\n",
       "      <td>ALI WARDHANA</td>\n",
       "      <td>Sepeda motor</td>\n",
       "      <td>Wirausaha</td>\n",
       "      <td>3254943</td>\n",
       "      <td>Lebih dari 3</td>\n",
       "      <td>Tidak</td>\n",
       "      <td>Tidak</td>\n",
       "      <td>Layak</td>\n",
       "    </tr>\n",
       "    <tr>\n",
       "      <th>5</th>\n",
       "      <td>Alvin Saputra</td>\n",
       "      <td>Sepeda motor</td>\n",
       "      <td>Wirausaha</td>\n",
       "      <td>3500000</td>\n",
       "      <td>1</td>\n",
       "      <td>Ya</td>\n",
       "      <td>Ya</td>\n",
       "      <td>Layak</td>\n",
       "    </tr>\n",
       "    <tr>\n",
       "      <th>6</th>\n",
       "      <td>AMELIA HIPNI</td>\n",
       "      <td>Jalan kaki</td>\n",
       "      <td>Petani</td>\n",
       "      <td>3100000</td>\n",
       "      <td>2</td>\n",
       "      <td>Tidak</td>\n",
       "      <td>Tidak</td>\n",
       "      <td>Tidak Layak</td>\n",
       "    </tr>\n",
       "    <tr>\n",
       "      <th>7</th>\n",
       "      <td>Amri Yanto</td>\n",
       "      <td>Sepeda motor</td>\n",
       "      <td>Petani</td>\n",
       "      <td>3200000</td>\n",
       "      <td>Lebih dari 3</td>\n",
       "      <td>Ya</td>\n",
       "      <td>Ya</td>\n",
       "      <td>Layak</td>\n",
       "    </tr>\n",
       "    <tr>\n",
       "      <th>8</th>\n",
       "      <td>ANA ARIA</td>\n",
       "      <td>Jalan kaki</td>\n",
       "      <td>Wirausaha</td>\n",
       "      <td>4000000</td>\n",
       "      <td>1</td>\n",
       "      <td>Tidak</td>\n",
       "      <td>Tidak</td>\n",
       "      <td>Tidak Layak</td>\n",
       "    </tr>\n",
       "    <tr>\n",
       "      <th>9</th>\n",
       "      <td>ANA FITROTUNNISA</td>\n",
       "      <td>Sepeda motor</td>\n",
       "      <td>Peternak</td>\n",
       "      <td>3300000</td>\n",
       "      <td>2</td>\n",
       "      <td>Ya</td>\n",
       "      <td>Ya</td>\n",
       "      <td>Layak</td>\n",
       "    </tr>\n",
       "  </tbody>\n",
       "</table>\n",
       "</div>"
      ],
      "text/plain": [
       "                 Nama Alat Transportasi Pekerjaan Orang Tua  \\\n",
       "0  ALDI RAHMAT TULLAH        Jalan kaki           Wirausaha   \n",
       "1           ALDIANSYA      Sepeda motor             Lainnya   \n",
       "2        ALDO SAPUTRA        Jalan kaki            Peternak   \n",
       "3  ALHABIB MUHAMADNUR        Jalan kaki             Lainnya   \n",
       "4        ALI WARDHANA      Sepeda motor           Wirausaha   \n",
       "5       Alvin Saputra      Sepeda motor           Wirausaha   \n",
       "6        AMELIA HIPNI        Jalan kaki              Petani   \n",
       "7          Amri Yanto      Sepeda motor              Petani   \n",
       "8            ANA ARIA        Jalan kaki           Wirausaha   \n",
       "9    ANA FITROTUNNISA      Sepeda motor            Peternak   \n",
       "\n",
       "   Penghasilan Orang Tua Jumlah Tanggungan Pemilik KIP Pemilik KPS  \\\n",
       "0                4213001                 1       Tidak       Tidak   \n",
       "1                3249958      Lebih dari 3       Tidak       Tidak   \n",
       "2                4166323                 2       Tidak       Tidak   \n",
       "3                3261966                 2       Tidak       Tidak   \n",
       "4                3254943      Lebih dari 3       Tidak       Tidak   \n",
       "5                3500000                 1          Ya          Ya   \n",
       "6                3100000                 2       Tidak       Tidak   \n",
       "7                3200000      Lebih dari 3          Ya          Ya   \n",
       "8                4000000                 1       Tidak       Tidak   \n",
       "9                3300000                 2          Ya          Ya   \n",
       "\n",
       "        Status  \n",
       "0  Tidak Layak  \n",
       "1        Layak  \n",
       "2  Tidak Layak  \n",
       "3  Tidak Layak  \n",
       "4        Layak  \n",
       "5        Layak  \n",
       "6  Tidak Layak  \n",
       "7        Layak  \n",
       "8  Tidak Layak  \n",
       "9        Layak  "
      ]
     },
     "execution_count": 179,
     "metadata": {},
     "output_type": "execute_result"
    }
   ],
   "source": [
    "y_pred_probs = model.predict(df_test)\n",
    "y_pred = (y_pred_probs > 0.5).astype(int).reshape(-1)\n",
    "\n",
    "label_mapping = {0: 'Tidak Layak', 1: 'Layak'}\n",
    "\n",
    "df_actual = pd.read_excel('data_test/data_10baris.xlsx')\n",
    "df_actual['Status'] = [label_mapping[p] for p in y_pred]\n",
    "\n",
    "print(\"Hasil Prediksi Model pada data baru:\")\n",
    "df_actual.head(10)"
   ]
  },
  {
   "cell_type": "markdown",
   "id": "7f17397c",
   "metadata": {},
   "source": [
    "Menyimpan model dalam bentuk JSON melalui Google Colab"
   ]
  },
  {
   "cell_type": "code",
   "execution_count": 180,
   "id": "9dadea76",
   "metadata": {},
   "outputs": [],
   "source": [
    "# import subprocess\n",
    "\n",
    "# subprocess.run([\n",
    "#     \"tensorflowjs_converter\",  \n",
    "#     \"--input_format\", \"keras\",\n",
    "#     \"/content/sample_data/model_ann.h5\",  \n",
    "#     \"/content/sample_data/model_tfjs\"     \n",
    "# ])"
   ]
  }
 ],
 "metadata": {
  "kernelspec": {
   "display_name": "env_caps",
   "language": "python",
   "name": "python3"
  },
  "language_info": {
   "codemirror_mode": {
    "name": "ipython",
    "version": 3
   },
   "file_extension": ".py",
   "mimetype": "text/x-python",
   "name": "python",
   "nbconvert_exporter": "python",
   "pygments_lexer": "ipython3",
   "version": "3.11.2"
  }
 },
 "nbformat": 4,
 "nbformat_minor": 5
}
